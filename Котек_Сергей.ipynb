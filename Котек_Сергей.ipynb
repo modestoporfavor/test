{
  "nbformat": 4,
  "nbformat_minor": 0,
  "metadata": {
    "colab": {
      "provenance": [],
      "authorship_tag": "ABX9TyOS9t/U5FCoWRJX3bRJ1pGp",
      "include_colab_link": true
    },
    "kernelspec": {
      "name": "python3",
      "display_name": "Python 3"
    },
    "language_info": {
      "name": "python"
    }
  },
  "cells": [
    {
      "cell_type": "markdown",
      "metadata": {
        "id": "view-in-github",
        "colab_type": "text"
      },
      "source": [
        "<a href=\"https://colab.research.google.com/github/modestoporfavor/test/blob/main/%D0%9A%D0%BE%D1%82%D0%B5%D0%BA_%D0%A1%D0%B5%D1%80%D0%B3%D0%B5%D0%B9.ipynb\" target=\"_parent\"><img src=\"https://colab.research.google.com/assets/colab-badge.svg\" alt=\"Open In Colab\"/></a>"
      ]
    },
    {
      "cell_type": "code",
      "execution_count": null,
      "metadata": {
        "colab": {
          "base_uri": "https://localhost:8080/",
          "height": 52
        },
        "id": "fcrHJgZdIu3O",
        "outputId": "80e247b0-5dc0-4565-afb3-22f570c17aa9"
      },
      "outputs": [
        {
          "output_type": "stream",
          "name": "stdout",
          "text": [
            "Напишите текст:ну здравствуйте\n",
            "601 76\n"
          ]
        },
        {
          "output_type": "display_data",
          "data": {
            "text/plain": [
              "<IPython.core.display.Javascript object>"
            ],
            "application/javascript": [
              "\n",
              "    async function download(id, filename, size) {\n",
              "      if (!google.colab.kernel.accessAllowed) {\n",
              "        return;\n",
              "      }\n",
              "      const div = document.createElement('div');\n",
              "      const label = document.createElement('label');\n",
              "      label.textContent = `Downloading \"${filename}\": `;\n",
              "      div.appendChild(label);\n",
              "      const progress = document.createElement('progress');\n",
              "      progress.max = size;\n",
              "      div.appendChild(progress);\n",
              "      document.body.appendChild(div);\n",
              "\n",
              "      const buffers = [];\n",
              "      let downloaded = 0;\n",
              "\n",
              "      const channel = await google.colab.kernel.comms.open(id);\n",
              "      // Send a message to notify the kernel that we're ready.\n",
              "      channel.send({})\n",
              "\n",
              "      for await (const message of channel.messages) {\n",
              "        // Send a message to notify the kernel that we're ready.\n",
              "        channel.send({})\n",
              "        if (message.buffers) {\n",
              "          for (const buffer of message.buffers) {\n",
              "            buffers.push(buffer);\n",
              "            downloaded += buffer.byteLength;\n",
              "            progress.value = downloaded;\n",
              "          }\n",
              "        }\n",
              "      }\n",
              "      const blob = new Blob(buffers, {type: 'application/binary'});\n",
              "      const a = document.createElement('a');\n",
              "      a.href = window.URL.createObjectURL(blob);\n",
              "      a.download = filename;\n",
              "      div.appendChild(a);\n",
              "      a.click();\n",
              "      div.remove();\n",
              "    }\n",
              "  "
            ]
          },
          "metadata": {}
        },
        {
          "output_type": "display_data",
          "data": {
            "text/plain": [
              "<IPython.core.display.Javascript object>"
            ],
            "application/javascript": [
              "download(\"download_637b64de-e7e7-46ca-9506-edce1fbf30fc\", \"my_video.gif\", 112612)"
            ]
          },
          "metadata": {}
        }
      ],
      "source": [
        "from PIL import Image, ImageDraw, ImageFont\n",
        "from google.colab import files\n",
        "\n",
        "\n",
        "\n",
        "inputtext=input(\"Напишите текст:\")\n",
        "fontheight=80\n",
        "font = ImageFont.truetype(\"//content/usr/share/fonts/truetype/arialmt.ttf\", fontheight)\n",
        "textwidth,textheight = draw.textsize(inputtext, font)\n",
        "def createimage(wh,):\n",
        "  width,height=wh\n",
        "  image=Image.new(\"RGB\",(100,100),\"purple\")\n",
        "  draw=ImageDraw.Draw(image)\n",
        "  draw.text((width, height), inputtext, font=font, fill=\"white\")\n",
        "  return image\n",
        "frames = []\n",
        "x, y = 100, ((100-textheight)/2)\n",
        "distance=textwidth+100\n",
        "for i in range(100):\n",
        "    new_frame = createimage((x,y))\n",
        "    frames.append(new_frame)\n",
        "    x += -(distance/100)\n",
        "\n",
        "\n",
        "\n",
        "\n",
        "print(textwidth,textheight)\n",
        "frames[0].save('my_video.gif', format='GIF',\n",
        "               append_images=frames[1:], save_all=True, duration=30, loop=0)\n",
        "\n",
        "files.download(\"my_video.gif\")\n"
      ]
    },
    {
      "cell_type": "code",
      "source": [
        "from google.colab import drive\n",
        "drive.mount('/content/drive')"
      ],
      "metadata": {
        "id": "guVZy20LpeMm"
      },
      "execution_count": null,
      "outputs": []
    },
    {
      "cell_type": "markdown",
      "source": [
        "# Новый раздел"
      ],
      "metadata": {
        "id": "CyN9gAuCRz7p"
      }
    }
  ]
}