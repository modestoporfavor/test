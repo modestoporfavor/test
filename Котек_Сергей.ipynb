{
  "nbformat": 4,
  "nbformat_minor": 0,
  "metadata": {
    "colab": {
      "provenance": [],
      "authorship_tag": "ABX9TyOJn9cZMgfcS/h9CKI+SCJ9",
      "include_colab_link": true
    },
    "kernelspec": {
      "name": "python3",
      "display_name": "Python 3"
    },
    "language_info": {
      "name": "python"
    }
  },
  "cells": [
    {
      "cell_type": "markdown",
      "metadata": {
        "id": "view-in-github",
        "colab_type": "text"
      },
      "source": [
        "<a href=\"https://colab.research.google.com/github/modestoporfavor/test/blob/main/%D0%9A%D0%BE%D1%82%D0%B5%D0%BA_%D0%A1%D0%B5%D1%80%D0%B3%D0%B5%D0%B9.ipynb\" target=\"_parent\"><img src=\"https://colab.research.google.com/assets/colab-badge.svg\" alt=\"Open In Colab\"/></a>"
      ]
    },
    {
      "cell_type": "code",
      "execution_count": null,
      "metadata": {
        "id": "fcrHJgZdIu3O"
      },
      "outputs": [],
      "source": [
        "from PIL import Image, ImageDraw, ImageFont\n",
        "from google.colab import files\n",
        "\n",
        "\n",
        "\n",
        "inputtext=input(\"Напишите текст:\")\n",
        "fontheight=80\n",
        "font = ImageFont.truetype(\"//content/usr/share/fonts/truetype/arialmt.ttf\", fontheight)\n",
        "textwidth,textheight = draw.textsize(inputtext, font)\n",
        "def createimage(wh,):\n",
        "  width,height=wh\n",
        "  image=Image.new(\"RGB\",(100,100),\"purple\")\n",
        "  draw=ImageDraw.Draw(image)\n",
        "  draw.text((width, height), inputtext, font=font, fill=\"white\")\n",
        "  return image\n",
        "frames = []\n",
        "x, y = 100, ((100-textheight)/2)\n",
        "distance=textwidth+100\n",
        "for i in range(100):\n",
        "    new_frame = createimage((x,y))\n",
        "    frames.append(new_frame)\n",
        "    x += -(distance/100)\n",
        "\n",
        "\n",
        "\n",
        "\n",
        "frames[0].save('my_video.gif', format='GIF',\n",
        "               append_images=frames[1:], save_all=True, duration=30, loop=0)\n",
        "\n",
        "files.download(\"my_video.gif\")\n"
      ]
    },
    {
      "cell_type": "markdown",
      "source": [
        "# Новый раздел"
      ],
      "metadata": {
        "id": "CyN9gAuCRz7p"
      }
    }
  ]
}