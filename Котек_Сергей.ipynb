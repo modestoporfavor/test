{
  "nbformat": 4,
  "nbformat_minor": 0,
  "metadata": {
    "colab": {
      "provenance": [],
      "authorship_tag": "ABX9TyOsNyt0vnVfR80vCyMxILRs",
      "include_colab_link": true
    },
    "kernelspec": {
      "name": "python3",
      "display_name": "Python 3"
    },
    "language_info": {
      "name": "python"
    }
  },
  "cells": [
    {
      "cell_type": "markdown",
      "metadata": {
        "id": "view-in-github",
        "colab_type": "text"
      },
      "source": [
        "<a href=\"https://colab.research.google.com/github/modestoporfavor/test/blob/main/%D0%9A%D0%BE%D1%82%D0%B5%D0%BA_%D0%A1%D0%B5%D1%80%D0%B3%D0%B5%D0%B9.ipynb\" target=\"_parent\"><img src=\"https://colab.research.google.com/assets/colab-badge.svg\" alt=\"Open In Colab\"/></a>"
      ]
    },
    {
      "cell_type": "code",
      "execution_count": 2,
      "metadata": {
        "id": "fcrHJgZdIu3O",
        "colab": {
          "base_uri": "https://localhost:8080/",
          "height": 34
        },
        "outputId": "2449180a-a20c-4802-abb6-208fb2de0b6d"
      },
      "outputs": [
        {
          "name": "stdout",
          "output_type": "stream",
          "text": [
            "Напишите текст:123\n"
          ]
        },
        {
          "output_type": "display_data",
          "data": {
            "text/plain": [
              "<IPython.core.display.Javascript object>"
            ],
            "application/javascript": [
              "\n",
              "    async function download(id, filename, size) {\n",
              "      if (!google.colab.kernel.accessAllowed) {\n",
              "        return;\n",
              "      }\n",
              "      const div = document.createElement('div');\n",
              "      const label = document.createElement('label');\n",
              "      label.textContent = `Downloading \"${filename}\": `;\n",
              "      div.appendChild(label);\n",
              "      const progress = document.createElement('progress');\n",
              "      progress.max = size;\n",
              "      div.appendChild(progress);\n",
              "      document.body.appendChild(div);\n",
              "\n",
              "      const buffers = [];\n",
              "      let downloaded = 0;\n",
              "\n",
              "      const channel = await google.colab.kernel.comms.open(id);\n",
              "      // Send a message to notify the kernel that we're ready.\n",
              "      channel.send({})\n",
              "\n",
              "      for await (const message of channel.messages) {\n",
              "        // Send a message to notify the kernel that we're ready.\n",
              "        channel.send({})\n",
              "        if (message.buffers) {\n",
              "          for (const buffer of message.buffers) {\n",
              "            buffers.push(buffer);\n",
              "            downloaded += buffer.byteLength;\n",
              "            progress.value = downloaded;\n",
              "          }\n",
              "        }\n",
              "      }\n",
              "      const blob = new Blob(buffers, {type: 'application/binary'});\n",
              "      const a = document.createElement('a');\n",
              "      a.href = window.URL.createObjectURL(blob);\n",
              "      a.download = filename;\n",
              "      div.appendChild(a);\n",
              "      a.click();\n",
              "      div.remove();\n",
              "    }\n",
              "  "
            ]
          },
          "metadata": {}
        },
        {
          "output_type": "display_data",
          "data": {
            "text/plain": [
              "<IPython.core.display.Javascript object>"
            ],
            "application/javascript": [
              "download(\"download_d0e33b3e-a453-420f-9766-23d633b91a82\", \"my_video.gif\", 78938)"
            ]
          },
          "metadata": {}
        }
      ],
      "source": [
        "\n",
        "from PIL import Image, ImageDraw, ImageFont\n",
        "from google.colab import files\n",
        "\n",
        "\n",
        "\n",
        "inputtext=input(\"Напишите текст:\")\n",
        "fontheight=80\n",
        "font = ImageFont.truetype(\"//content/usr/share/fonts/truetype/liberation/LiberationMono-Bold.ttf\", fontheight)\n",
        "image=Image.new(\"RGB\",(100,100),\"purple\")\n",
        "draw=ImageDraw.Draw(image)\n",
        "\n",
        "textwidth,textheight = draw.textsize(inputtext, font)\n",
        "def createimage(wh,):\n",
        "  width,height=wh\n",
        "  image=Image.new(\"RGB\",(100,100),\"purple\")\n",
        "  draw=ImageDraw.Draw(image)\n",
        "  draw.text((width, height), inputtext, font=font, fill=\"white\")\n",
        "  return image\n",
        "frames = []\n",
        "x, y = 100, ((100-textheight)/2)\n",
        "distance=textwidth+100\n",
        "for i in range(100):\n",
        "    new_frame = createimage((x,y))\n",
        "    frames.append(new_frame)\n",
        "    x += -(distance/100)\n",
        "\n",
        "\n",
        "\n",
        "\n",
        "frames[0].save('my_video.gif', format='GIF',\n",
        "               append_images=frames[1:], save_all=True, duration=30, loop=0)\n",
        "\n",
        "files.download(\"my_video.gif\")\n"
      ]
    },
    {
      "cell_type": "markdown",
      "source": [
        "# Новый раздел"
      ],
      "metadata": {
        "id": "CyN9gAuCRz7p"
      }
    }
  ]
}